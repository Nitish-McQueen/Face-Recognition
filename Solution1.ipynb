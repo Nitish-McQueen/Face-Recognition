{
  "nbformat": 4,
  "nbformat_minor": 0,
  "metadata": {
    "colab": {
      "name": "Solution1.ipynb",
      "provenance": [],
      "authorship_tag": "ABX9TyMPn+PFBCB1VPTeNB5aFaSo",
      "include_colab_link": true
    },
    "kernelspec": {
      "name": "python3",
      "display_name": "Python 3"
    }
  },
  "cells": [
    {
      "cell_type": "markdown",
      "metadata": {
        "id": "view-in-github",
        "colab_type": "text"
      },
      "source": [
        "<a href=\"https://colab.research.google.com/github/Nitish-McQueen/Face-Recognition/blob/master/Solution1.ipynb\" target=\"_parent\"><img src=\"https://colab.research.google.com/assets/colab-badge.svg\" alt=\"Open In Colab\"/></a>"
      ]
    },
    {
      "cell_type": "code",
      "metadata": {
        "id": "7a8U8TLNeK0V",
        "colab_type": "code",
        "colab": {}
      },
      "source": [
        "# Importing required library\n",
        "import numpy as np\n",
        "import matplotlib.pyplot as plt"
      ],
      "execution_count": 0,
      "outputs": []
    },
    {
      "cell_type": "code",
      "metadata": {
        "id": "eKmyiwzhea27",
        "colab_type": "code",
        "colab": {}
      },
      "source": [
        "#Dataset\n",
        "\n",
        "scores = {\"Day 1\": 100, \"Day 2\": 108, \"Day 3\":112, \"Day 4\":115, \"Day 5\":150,\n",
        "          \"Day 6\":178, \"Day 7\": 143, \"Day 8\": 132, \"Day 9\":190, \"Day 10\": 235,\n",
        "          \"Day 11\":253, \"Day 12\": 298, \"Day 13\": 328, \"Day 14\":390, \"Day 15\": 257,\n",
        "          \"Day 16\":288, \"Day 17\": 393, \"Day 18\": 425, \"Day 19\":458, \"Day 20\": 450,\n",
        "          \"Day 21\":473, \"Day 22\": 333, \"Day 23\": 452, \"Day 24\":490, \"Day 25\": 495,\n",
        "          \"Day 26\":488, \"Day 27\": 543, \"Day 28\": 532, \"Day 29\":590, \"Day 30\": 605}\n",
        "\n"
      ],
      "execution_count": 0,
      "outputs": []
    },
    {
      "cell_type": "code",
      "metadata": {
        "id": "cCDBoDRgegt8",
        "colab_type": "code",
        "colab": {
          "base_uri": "https://localhost:8080/",
          "height": 34
        },
        "outputId": "68370b31-78a2-4723-cbc2-32d8453ba981"
      },
      "source": [
        "Scores = list(scores.values())\n",
        "print(Scores)"
      ],
      "execution_count": 3,
      "outputs": [
        {
          "output_type": "stream",
          "text": [
            "[100, 108, 112, 115, 150, 178, 143, 132, 190, 235, 253, 298, 328, 390, 257, 288, 393, 425, 458, 450, 473, 333, 452, 490, 495, 488, 543, 532, 590, 605]\n"
          ],
          "name": "stdout"
        }
      ]
    },
    {
      "cell_type": "code",
      "metadata": {
        "id": "_6Ir_N52engh",
        "colab_type": "code",
        "colab": {
          "base_uri": "https://localhost:8080/",
          "height": 51
        },
        "outputId": "f0b47149-ab1c-498a-bff2-01685a2c827c"
      },
      "source": [
        "Days=np.arange(1,31)\n",
        "print(Days)"
      ],
      "execution_count": 10,
      "outputs": [
        {
          "output_type": "stream",
          "text": [
            "[ 1  2  3  4  5  6  7  8  9 10 11 12 13 14 15 16 17 18 19 20 21 22 23 24\n",
            " 25 26 27 28 29 30]\n"
          ],
          "name": "stdout"
        }
      ]
    },
    {
      "cell_type": "code",
      "metadata": {
        "id": "u2iINstMetm2",
        "colab_type": "code",
        "colab": {
          "base_uri": "https://localhost:8080/",
          "height": 295
        },
        "outputId": "b130f76a-e031-4a1a-8ce4-9c12352acc35"
      },
      "source": [
        "plt.plot(Scores, Days, color = 'blue' ,marker = '*')\n",
        "plt.title(\"Score vs. Days\")\n",
        "plt.xlabel(\"Scores\")\n",
        "plt.ylabel(\"Days\")\n",
        "plt.show()\n"
      ],
      "execution_count": 11,
      "outputs": [
        {
          "output_type": "display_data",
          "data": {
            "image/png": "[encoded data removed]",
            "text/plain": [
              "<Figure size 432x288 with 1 Axes>"
            ]
          },
          "metadata": {
            "tags": [],
            "needs_background": "light"
          }
        }
      ]
    },
    {
      "cell_type": "code",
      "metadata": {
        "id": "IeeX8Lkee0d1",
        "colab_type": "code",
        "colab": {
          "base_uri": "https://localhost:8080/",
          "height": 85
        },
        "outputId": "de261e55-b9f6-48b8-df88-ae8b43e94640"
      },
      "source": [
        "meanscore = np.mean(Scores)\n",
        "medianscore = np.median(Scores)\n",
        "minscore = np.min(Scores)\n",
        "maxscore = np.max(Scores)\n",
        "\n",
        "#Results\n",
        "print(\"Mean Score=\",str(meanscore))\n",
        "print(\"Median Score=\",str(medianscore))\n",
        "print(\"Min Score=\",str(minscore))\n",
        "print(\"Max Score=\",str(maxscore))"
      ],
      "execution_count": 14,
      "outputs": [
        {
          "output_type": "stream",
          "text": [
            "Mean Score= 333.46666666666664\n",
            "Median Score= 330.5\n",
            "Min Score= 100\n",
            "Max Score= 605\n"
          ],
          "name": "stdout"
        }
      ]
    },
    {
      "cell_type": "code",
      "metadata": {
        "id": "ttcnSpIJfvFt",
        "colab_type": "code",
        "colab": {}
      },
      "source": [
        ""
      ],
      "execution_count": 0,
      "outputs": []
    }
  ]
}